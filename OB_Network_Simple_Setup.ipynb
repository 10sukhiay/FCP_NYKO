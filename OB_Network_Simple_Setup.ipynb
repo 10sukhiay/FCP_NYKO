{
 "cells": [
  {
   "cell_type": "markdown",
   "metadata": {},
   "source": [
    "Code createx: 15/04/21\n",
    "\n",
    "## Initial testing of networks and how they could be applied to the project"
   ]
  },
  {
   "cell_type": "code",
   "execution_count": 52,
   "metadata": {},
   "outputs": [],
   "source": [
    "import matplotlib.pyplot as plt\n",
    "import networkx as nx\n",
    "import pandas as pd\n",
    "import random"
   ]
  },
  {
   "cell_type": "code",
   "execution_count": null,
   "metadata": {},
   "outputs": [],
   "source": [
    "edgelist=[(1,2),(1,3),(1,4),(1,5),(1,6),(1,7),(1,8)]\n",
    "H=nx.Graph(edgelist)\n",
    "nx.draw(H)"
   ]
  },
  {
   "cell_type": "code",
   "execution_count": 44,
   "metadata": {},
   "outputs": [
    {
     "data": {
      "text/plain": [
       "<function matplotlib.pyplot.show(close=None, block=None)>"
      ]
     },
     "execution_count": 44,
     "metadata": {},
     "output_type": "execute_result"
    },
    {
     "data": {
      "image/png": "[encoded data removed]",
      "text/plain": [
       "<Figure size 432x288 with 1 Axes>"
      ]
     },
     "metadata": {},
     "output_type": "display_data"
    }
   ],
   "source": [
    "# creating a simple graph\n",
    "edgelist=[(1,2),(1,3),(1,4),(1,5),(2,3),(3,4),(4,5),(2,5)]\n",
    "G=nx.Graph(edgelist)\n",
    "\n",
    "\n",
    "# give attributes to nodes and edges\n",
    "G.nodes[1]['Number'] = 11\n",
    "G.nodes[2]['Number'] = 12\n",
    "G.nodes[3]['Number'] = 13\n",
    "G.nodes[4]['Number'] = 14\n",
    "G.nodes[5]['Number'] = 15\n",
    "\n",
    "G.edges[1,2]['Time'] = 2\n",
    "G.edges[1,3]['Time'] = 2\n",
    "G.edges[1,4]['Time'] = 2\n",
    "G.edges[1,5]['Time'] = 2\n",
    "\n",
    "G.edges[2,3]['Time'] = 5\n",
    "G.edges[3,4]['Time'] = 5\n",
    "G.edges[4,5]['Time'] = 5\n",
    "G.edges[5,2]['Time'] = 5\n",
    "\n",
    "\n",
    "pos = nx.spring_layout(G)\n",
    "\n",
    "\n",
    "#nx.draw(G, with_labels=True)\n",
    "nx.draw(G,pos, with_labels=True)\n",
    "node_labels = nx.get_node_attributes(G,'Time')\n",
    "nx.draw_networkx_labels(G, pos, labels = node_labels)\n",
    "edge_labels = nx.get_edge_attributes(G,'Time')\n",
    "nx.draw_networkx_edge_labels(G, pos, edge_labels)\n",
    "plt.savefig('SimpleWeightedNetwork.png')\n",
    "plt.show\n",
    "\n"
   ]
  },
  {
   "cell_type": "markdown",
   "metadata": {},
   "source": [
    "## Create dataframe to track position of people within the network \n",
    "Initally 10 people, placed at random nodes. There will then be a probability that they move from node to node"
   ]
  },
  {
   "cell_type": "code",
   "execution_count": 58,
   "metadata": {},
   "outputs": [
    {
     "data": {
      "text/html": [
       "<div>\n",
       "<style scoped>\n",
       "    .dataframe tbody tr th:only-of-type {\n",
       "        vertical-align: middle;\n",
       "    }\n",
       "\n",
       "    .dataframe tbody tr th {\n",
       "        vertical-align: top;\n",
       "    }\n",
       "\n",
       "    .dataframe thead th {\n",
       "        text-align: right;\n",
       "    }\n",
       "</style>\n",
       "<table border=\"1\" class=\"dataframe\">\n",
       "  <thead>\n",
       "    <tr style=\"text-align: right;\">\n",
       "      <th></th>\n",
       "      <th>Person</th>\n",
       "      <th>Node</th>\n",
       "    </tr>\n",
       "  </thead>\n",
       "  <tbody>\n",
       "    <tr>\n",
       "      <th>0</th>\n",
       "      <td>1</td>\n",
       "      <td>2</td>\n",
       "    </tr>\n",
       "    <tr>\n",
       "      <th>1</th>\n",
       "      <td>2</td>\n",
       "      <td>3</td>\n",
       "    </tr>\n",
       "    <tr>\n",
       "      <th>2</th>\n",
       "      <td>3</td>\n",
       "      <td>2</td>\n",
       "    </tr>\n",
       "    <tr>\n",
       "      <th>3</th>\n",
       "      <td>4</td>\n",
       "      <td>3</td>\n",
       "    </tr>\n",
       "    <tr>\n",
       "      <th>4</th>\n",
       "      <td>5</td>\n",
       "      <td>1</td>\n",
       "    </tr>\n",
       "    <tr>\n",
       "      <th>5</th>\n",
       "      <td>6</td>\n",
       "      <td>2</td>\n",
       "    </tr>\n",
       "    <tr>\n",
       "      <th>6</th>\n",
       "      <td>7</td>\n",
       "      <td>3</td>\n",
       "    </tr>\n",
       "    <tr>\n",
       "      <th>7</th>\n",
       "      <td>8</td>\n",
       "      <td>2</td>\n",
       "    </tr>\n",
       "    <tr>\n",
       "      <th>8</th>\n",
       "      <td>9</td>\n",
       "      <td>5</td>\n",
       "    </tr>\n",
       "    <tr>\n",
       "      <th>9</th>\n",
       "      <td>10</td>\n",
       "      <td>2</td>\n",
       "    </tr>\n",
       "  </tbody>\n",
       "</table>\n",
       "</div>"
      ],
      "text/plain": [
       "   Person  Node\n",
       "0       1     2\n",
       "1       2     3\n",
       "2       3     2\n",
       "3       4     3\n",
       "4       5     1\n",
       "5       6     2\n",
       "6       7     3\n",
       "7       8     2\n",
       "8       9     5\n",
       "9      10     2"
      ]
     },
     "execution_count": 58,
     "metadata": {},
     "output_type": "execute_result"
    }
   ],
   "source": [
    "number_of_people = 10\n",
    "number_of_people_list = range(1,number_of_people+1,1)\n",
    "\n",
    "node = []\n",
    "for i in range(1,number_of_people+1,1):\n",
    "    x = random.randint(1,5)\n",
    "    node.append(x)\n",
    "\n",
    "tracking = pd.DataFrame(data=number_of_people_list, columns=['Person'])\n",
    "tracking['Node'] = node\n",
    "tracking"
   ]
  },
  {
   "cell_type": "code",
   "execution_count": 57,
   "metadata": {},
   "outputs": [
    {
     "data": {
      "text/plain": [
       "range(1, 11)"
      ]
     },
     "execution_count": 57,
     "metadata": {},
     "output_type": "execute_result"
    }
   ],
   "source": [
    "number_of_people_list"
   ]
  },
  {
   "cell_type": "code",
   "execution_count": null,
   "metadata": {},
   "outputs": [],
   "source": []
  },
  {
   "cell_type": "code",
   "execution_count": null,
   "metadata": {},
   "outputs": [],
   "source": []
  },
  {
   "cell_type": "markdown",
   "metadata": {},
   "source": [
    "### Querying data"
   ]
  },
  {
   "cell_type": "code",
   "execution_count": 39,
   "metadata": {},
   "outputs": [
    {
     "data": {
      "text/plain": [
       "NodeView((1, 2, 3, 4, 5))"
      ]
     },
     "execution_count": 39,
     "metadata": {},
     "output_type": "execute_result"
    }
   ],
   "source": [
    "# Return list of nodes \n",
    "G.nodes()"
   ]
  },
  {
   "cell_type": "code",
   "execution_count": 40,
   "metadata": {},
   "outputs": [
    {
     "data": {
      "text/plain": [
       "NodeDataView({1: {'Number': 12}, 2: {'Number': 15}, 3: {}, 4: {}, 5: {}})"
      ]
     },
     "execution_count": 40,
     "metadata": {},
     "output_type": "execute_result"
    }
   ],
   "source": [
    "# to see nodes and attributes - dictionary\n",
    "G.nodes(data=True)"
   ]
  },
  {
   "cell_type": "code",
   "execution_count": 41,
   "metadata": {},
   "outputs": [
    {
     "data": {
      "text/plain": [
       "EdgeView([(1, 2), (1, 3), (1, 4), (1, 5), (2, 3), (2, 5), (3, 4), (4, 5)])"
      ]
     },
     "execution_count": 41,
     "metadata": {},
     "output_type": "execute_result"
    }
   ],
   "source": [
    "# Retuns a list of tuples. Each tuple represents an edge\n",
    "G.edges()"
   ]
  },
  {
   "cell_type": "code",
   "execution_count": 42,
   "metadata": {},
   "outputs": [
    {
     "data": {
      "text/plain": [
       "EdgeDataView([(1, 2, {'Time': 8}), (1, 3, {}), (1, 4, {}), (1, 5, {}), (2, 3, {'Time': 5}), (2, 5, {}), (3, 4, {}), (4, 5, {})])"
      ]
     },
     "execution_count": 42,
     "metadata": {},
     "output_type": "execute_result"
    }
   ],
   "source": [
    "# Return edges and attributes - dictionary\n",
    "G.edges(data=True)"
   ]
  },
  {
   "cell_type": "markdown",
   "metadata": {},
   "source": [
    "I think probably for what we want, undirected will be fine. "
   ]
  },
  {
   "cell_type": "markdown",
   "metadata": {},
   "source": [
    "### Degree centrality\n",
    "\n",
    "This defines the importance of a node\n",
    "= number of neighbours/number of neighbours i could possibly have  \n",
    "\n",
    "Here, a super spreader would have a high degree of centrality"
   ]
  },
  {
   "cell_type": "code",
   "execution_count": 26,
   "metadata": {},
   "outputs": [
    {
     "data": {
      "image/png": "[encoded data removed]",
      "text/plain": [
       "<Figure size 432x288 with 1 Axes>"
      ]
     },
     "metadata": {},
     "output_type": "display_data"
    }
   ],
   "source": [
    "edgelist=[(1,2),(1,3),(1,4),(1,5),(1,6),(1,7),(1,8)]\n",
    "H=nx.Graph(edgelist)\n",
    "nx.draw(H)"
   ]
  },
  {
   "cell_type": "code",
   "execution_count": 29,
   "metadata": {},
   "outputs": [
    {
     "data": {
      "text/plain": [
       "[2, 3, 4, 5, 6, 7, 8]"
      ]
     },
     "execution_count": 29,
     "metadata": {},
     "output_type": "execute_result"
    }
   ],
   "source": [
    "[n for n in H.neighbors(1)]"
   ]
  },
  {
   "cell_type": "code",
   "execution_count": 30,
   "metadata": {},
   "outputs": [
    {
     "data": {
      "text/plain": [
       "{1: 1.0,\n",
       " 2: 0.14285714285714285,\n",
       " 3: 0.14285714285714285,\n",
       " 4: 0.14285714285714285,\n",
       " 5: 0.14285714285714285,\n",
       " 6: 0.14285714285714285,\n",
       " 7: 0.14285714285714285,\n",
       " 8: 0.14285714285714285}"
      ]
     },
     "execution_count": 30,
     "metadata": {},
     "output_type": "execute_result"
    }
   ],
   "source": [
    "nx.degree_centrality(H)"
   ]
  },
  {
   "cell_type": "code",
   "execution_count": null,
   "metadata": {},
   "outputs": [],
   "source": []
  }
 ],
 "metadata": {
  "kernelspec": {
   "display_name": "Python 3",
   "language": "python",
   "name": "python3"
  },
  "language_info": {
   "codemirror_mode": {
    "name": "ipython",
    "version": 3
   },
   "file_extension": ".py",
   "mimetype": "text/x-python",
   "name": "python",
   "nbconvert_exporter": "python",
   "pygments_lexer": "ipython3",
   "version": "3.8.5"
  }
 },
 "nbformat": 4,
 "nbformat_minor": 4
}
