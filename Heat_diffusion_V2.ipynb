{
 "cells": [
  {
   "cell_type": "code",
   "execution_count": 1,
   "metadata": {},
   "outputs": [],
   "source": [
    "import numpy as np\n",
    "import pandas as pd\n",
    "import random\n",
    "import matplotlib.pyplot as plt\n",
    "import seaborn as sns\n",
    "import matplotlib.animation as animation"
   ]
  },
  {
   "cell_type": "markdown",
   "metadata": {},
   "source": [
    "# Heat mapping class & functions"
   ]
  },
  {
   "cell_type": "code",
   "execution_count": 2,
   "metadata": {},
   "outputs": [],
   "source": [
    "# create covid map object\n",
    "class COVID_MAP:\n",
    "    def __init__(self, heat_old, position_state, boundaries, xsize, ysize): \n",
    "        self.heat_old = heat_old\n",
    "        self.position_state = position_state\n",
    "        self.boundaries = boundaries\n",
    "        self.xsize = xsize\n",
    "        self.ysize = ysize\n",
    "    \n",
    "    def map_position_states(self):\n",
    "        pos_map = np.zeros((self.xsize, self.ysize))\n",
    "                           \n",
    "        for x in self.position_state:\n",
    "            pos_map[x[0],x[1]] = x[2]\n",
    "            \n",
    "        return pos_map\n",
    "    \n",
    "    def heat_source(self): # will add heat source to map based on individuals new position\n",
    "        sources = np.zeros((self.xsize,self.ysize))\n",
    "        sources += self.map_position_states()\n",
    "        sources[sources == 2] = 100 \n",
    "        sources[sources != 100] = 0\n",
    "        return sources\n",
    "    \n",
    "    def calculate_heat_new(self): # will calculate single step of heat dispersion\n",
    "        \n",
    "        heat_left = np.roll(self.heat_old, 1 , axis = 1)\n",
    "        heat_right = np.roll(self.heat_old, -1 , axis = 1)\n",
    "        heat_up = np.roll(self.heat_old, -1 , axis = 0)\n",
    "        heat_down = np.roll(self.heat_old, 1 , axis = 0)\n",
    "        \n",
    "        heat_new = 0.25*(heat_left + heat_right + heat_up + heat_down) # cell heat is the average of adjacent cells\n",
    "        heat_new = heat_new + self.heat_source()\n",
    "        heat_new[heat_new > 100] = 100\n",
    "        \n",
    "        heat_new[:,0] = 0\n",
    "        heat_new[:,-1] = 0\n",
    "        heat_new[0,:] = 0\n",
    "        heat_new[-1,:] = 0\n",
    "        \n",
    "        return heat_new\n",
    "    \n",
    "    def show_map(self): # creates a heatmap and position map\n",
    "        # create marker for healthy individuals in heatmap\n",
    "        heat_map = self.calculate_heat_new()\n",
    "        pos = self.map_position_states()\n",
    "        heat_map[pos == 1] = -100\n",
    "        # create marker for healthy individuals in pos map\n",
    "        pos_map = self.map_position_states()\n",
    "        pos_map[pos_map == 1] = -2 \n",
    "        \n",
    "        \n",
    "        #create matplot figure with subplots\n",
    "        fig, axes = plt.subplots(1, 2, figsize=(15, 5)) \n",
    "        \n",
    "        sns.heatmap(np.transpose(heat_map), ax=axes[0], cbar=False, cmap='icefire', center =0).invert_yaxis() #heatmap\n",
    "        axes[0].set_title(\"Heat Map\")\n",
    "        \n",
    "        #sns.heatmap(pos_map, ax=axes[1], cbar=False, cmap='icefire', center = 0).invert_yaxis() #position heatmap\n",
    "        #axes[1].set_title(\"Position Map\")\n",
    "        sns.scatterplot(x=self.position_state[:,0], y=self.position_state[:,1], data=self.position_state, ax=axes[1], hue=self.position_state[:,2], legend=False, palette='coolwarm') #position scatterplot\n",
    "        axes[1].set_title(\"Position Map\")\n",
    "        axes[1].set_xlim(0,self.xsize)\n",
    "        axes[1].set_ylim(0,self.ysize)"
   ]
  },
  {
   "cell_type": "markdown",
   "metadata": {},
   "source": [
    "# Position & movement function"
   ]
  },
  {
   "cell_type": "code",
   "execution_count": 3,
   "metadata": {},
   "outputs": [],
   "source": [
    "def Move(position_state):\n",
    "        movement = np.random.randint(-1, 2, size = (pop_size, 2))  # creates a random array of -1 to 1 to add to the current positions\n",
    "        coords = position_state[:,0:2] + movement\n",
    "        coords[coords < 1] = 1 # prevent movement below x and y axis\n",
    "        coords[coords[:,0] > (xsize - 2)] = (xsize - 2) # prevent movement beyond x axis\n",
    "        coords[coords[:,1] > (ysize - 2)] = (ysize - 2) # prevent movement beyond y axis\n",
    "        position_state[:,0:2] = coords\n",
    "        return position_state"
   ]
  },
  {
   "cell_type": "markdown",
   "metadata": {},
   "source": [
    "# Transmission function"
   ]
  },
  {
   "cell_type": "code",
   "execution_count": 4,
   "metadata": {},
   "outputs": [],
   "source": [
    "def Transmission(position_state, heat):\n",
    "    for x in range(len(position_state)):\n",
    "            if heat[position_state[x,0],position_state[x,1]] > 20 and heat[position_state[x,0],position_state[x,1]] > np.random.randint(0,101):\n",
    "                position_state[x,2] = 2\n",
    "    return position_state"
   ]
  },
  {
   "cell_type": "markdown",
   "metadata": {},
   "source": [
    "# Create Starting Conditions"
   ]
  },
  {
   "cell_type": "code",
   "execution_count": 5,
   "metadata": {},
   "outputs": [],
   "source": [
    "# starting conditions\n",
    "pop_size = 10 # total number of individuals\n",
    "xsize = 100  # number of cell or pixels in the xaxis\n",
    "ysize = 100  # number of cells or pixels in the yaxis\n",
    "heat = np.zeros((xsize,ysize)) # heat map array, currently all cold\n",
    "boundary = np.zeros((xsize,ysize)) # boundary array, will have values where there are boundaries, values can dictate behaviour"
   ]
  },
  {
   "cell_type": "markdown",
   "metadata": {},
   "source": [
    "# Create initial list of individuals"
   ]
  },
  {
   "cell_type": "code",
   "execution_count": 6,
   "metadata": {},
   "outputs": [],
   "source": [
    "x_pos = np.random.randint(1,xsize-2, size=(pop_size,1))  # random x coordinates in column vector\n",
    "y_pos = np.random.randint(1,ysize-2, size=(pop_size,1))  # random y coordinates in column vector\n",
    "state = np.zeros((pop_size,1))\n",
    "random_states = [1, 2]  # 1 means healthy, 2 means infectious\n",
    "weights = [96, 4] # lists the states and weightings\n",
    "state = np.transpose([np.array(random.choices(random_states, weights=weights, k=pop_size))]) #randomly picks state using weighting probability, convert to column vector\n",
    "if np.any(np.where(state == 2)) == False: # checks if we have 0 infected individuals\n",
    "    state[np.random.randint(0,pop_size)] = 2 # adds 1 infected at random\n",
    "position_state = np.hstack((x_pos, y_pos, state)) # horizontal stack into 1 array"
   ]
  },
  {
   "cell_type": "markdown",
   "metadata": {},
   "source": [
    "# Create map instance"
   ]
  },
  {
   "cell_type": "code",
   "execution_count": 7,
   "metadata": {},
   "outputs": [],
   "source": [
    "#create map instance\n",
    "map1 = COVID_MAP(heat, position_state, boundary, xsize, ysize)"
   ]
  },
  {
   "cell_type": "markdown",
   "metadata": {},
   "source": [
    "# Iterate map1 instance"
   ]
  },
  {
   "cell_type": "code",
   "execution_count": 8,
   "metadata": {},
   "outputs": [],
   "source": [
    "i = 0   # total iteration counter"
   ]
  },
  {
   "cell_type": "code",
   "execution_count": 9,
   "metadata": {
    "scrolled": false
   },
   "outputs": [
    {
     "name": "stdout",
     "output_type": "stream",
     "text": [
      "Total Infected:  4\n",
      "Total Population:  10\n",
      "Iterations:  1000\n"
     ]
    },
    {
     "data": {
      "image/png": "[encoded data removed]",
      "text/plain": [
       "<Figure size 1080x360 with 2 Axes>"
      ]
     },
     "metadata": {
      "needs_background": "light"
     },
     "output_type": "display_data"
    }
   ],
   "source": [
    "n = 0  # throwaway iterator\n",
    "while n<1000:\n",
    "    \n",
    "    Transmission(position_state, heat)\n",
    "    heat = map1.calculate_heat_new()\n",
    "    \n",
    "    if (n/2).is_integer(): # only move every other iteration\n",
    "        Move(position_state)\n",
    "        \n",
    "    map1 = COVID_MAP(heat, position_state, boundary, xsize, ysize)\n",
    "    \n",
    "    i += 1\n",
    "    n += 1\n",
    " \n",
    "map1.show_map()\n",
    "print(\"Total Infected: \",np.count_nonzero(position_state[:,2] == 2))\n",
    "print(\"Total Population: \", pop_size)\n",
    "print(\"Iterations: \", i)"
   ]
  },
  {
   "cell_type": "markdown",
   "metadata": {},
   "source": [
    "# Create some kind of animation"
   ]
  },
  {
   "cell_type": "code",
   "execution_count": null,
   "metadata": {},
   "outputs": [],
   "source": []
  }
 ],
 "metadata": {
  "kernelspec": {
   "display_name": "Python 3",
   "language": "python",
   "name": "python3"
  },
  "language_info": {
   "codemirror_mode": {
    "name": "ipython",
    "version": 3
   },
   "file_extension": ".py",
   "mimetype": "text/x-python",
   "name": "python",
   "nbconvert_exporter": "python",
   "pygments_lexer": "ipython3",
   "version": "3.8.5"
  }
 },
 "nbformat": 4,
 "nbformat_minor": 4
}
